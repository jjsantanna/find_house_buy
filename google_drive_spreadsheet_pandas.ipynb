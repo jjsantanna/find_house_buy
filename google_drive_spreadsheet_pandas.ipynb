{
 "cells": [
  {
   "cell_type": "markdown",
   "metadata": {},
   "source": [
    "## Working with Google (Drive) sheets and pandas\n",
    "\n",
    "I've followed this outdated tutorial [here!](https://medium.com/@vince.shields913/reading-google-sheets-into-a-pandas-dataframe-with-gspread-and-oauth2-375b932be7bf) and fix myself the outdated steps.\n",
    "\n",
    "**YOU NEED TO HAVE THE KEY:** https://console.developers.google.com/cloud-resource-manager -> select the project -> 'service accounts' -> actions -> create key -> json\n"
   ]
  },
  {
   "cell_type": "markdown",
   "metadata": {},
   "source": [
    "## To connect to a Google worksheet"
   ]
  },
  {
   "cell_type": "code",
   "execution_count": 38,
   "metadata": {},
   "outputs": [],
   "source": [
    "import gspread # documentation: gspread.readthedocs.io\n",
    "from oauth2client.service_account import ServiceAccountCredentials\n",
    "\n",
    "google_json_key = 'buying-house-283614-38d7fde831c8.json'\n",
    "scope = ['https://spreadsheets.google.com/feeds','https://www.googleapis.com/auth/drive']\n",
    "credentials = ServiceAccountCredentials.from_json_keyfile_name(google_json_key, scope) \n",
    "gc = gspread.authorize(credentials)\n",
    "\n",
    "# Connecting to a worksheet\n",
    "worksheet = gc.open(\"buy house notes\").worksheet(\"empty\")"
   ]
  },
  {
   "cell_type": "markdown",
   "metadata": {},
   "source": [
    "## To load the Google worksheet into a dataframe"
   ]
  },
  {
   "cell_type": "code",
   "execution_count": 43,
   "metadata": {},
   "outputs": [],
   "source": [
    "from gspread_dataframe import get_as_dataframe, set_with_dataframe \n",
    "\n",
    "# Reading into a dataframe\n",
    "df = get_as_dataframe(worksheet, parse_dates=True, usecols=[0,1], skiprows=1, header=None)"
   ]
  },
  {
   "cell_type": "markdown",
   "metadata": {},
   "source": [
    "## To save the dataframe into Google "
   ]
  },
  {
   "cell_type": "code",
   "execution_count": null,
   "metadata": {},
   "outputs": [],
   "source": [
    "# Saving into the worksheet\n",
    "set_with_dataframe(worksheet, df)"
   ]
  }
 ],
 "metadata": {
  "kernelspec": {
   "display_name": "Python 3",
   "language": "python",
   "name": "python3"
  },
  "language_info": {
   "codemirror_mode": {
    "name": "ipython",
    "version": 3
   },
   "file_extension": ".py",
   "mimetype": "text/x-python",
   "name": "python",
   "nbconvert_exporter": "python",
   "pygments_lexer": "ipython3",
   "version": "3.7.0"
  }
 },
 "nbformat": 4,
 "nbformat_minor": 2
}
