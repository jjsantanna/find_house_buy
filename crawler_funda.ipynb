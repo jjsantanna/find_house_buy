{
 "cells": [
  {
   "cell_type": "markdown",
   "metadata": {},
   "source": [
    "# Crawler to retrieve houses from Funda.nl"
   ]
  },
  {
   "cell_type": "markdown",
   "metadata": {},
   "source": [
    "<h1 align='center'>=========================================================</h1>"
   ]
  },
  {
   "cell_type": "markdown",
   "metadata": {},
   "source": [
    "# INTEGRATION WITH GOOGLE DRIVE SPREADSHEET (into df_current)"
   ]
  },
  {
   "cell_type": "code",
   "execution_count": 12,
   "metadata": {},
   "outputs": [],
   "source": [
    "google_json_key = 'buying-house-283614-38d7fde831c8.json'\n",
    "filename = \"buy house notes\"\n",
    "worksheet_name = \"houses\"\n",
    "worksheet_name = \"houses_utrecht\""
   ]
  },
  {
   "cell_type": "code",
   "execution_count": 13,
   "metadata": {},
   "outputs": [],
   "source": [
    "import gspread \n",
    "from gspread_dataframe import get_as_dataframe, set_with_dataframe \n",
    "from oauth2client.service_account import ServiceAccountCredentials\n",
    "\n",
    "scope = ['https://spreadsheets.google.com/feeds','https://www.googleapis.com/auth/drive']\n",
    "credentials = ServiceAccountCredentials.from_json_keyfile_name(google_json_key, scope) \n",
    "gc = gspread.authorize(credentials)\n",
    "\n",
    "worksheet = gc.open(filename).worksheet(worksheet_name)\n",
    "df_current = get_as_dataframe(worksheet,index_column=0)"
   ]
  },
  {
   "cell_type": "markdown",
   "metadata": {},
   "source": [
    "<h1 align='center'>=========================================================</h1>"
   ]
  },
  {
   "cell_type": "markdown",
   "metadata": {},
   "source": [
    "# PART II: defining a function to automatic crawler all houses to buy from funda.nl! retrieve only houses that are not in a oldcsv converted in a df"
   ]
  },
  {
   "cell_type": "markdown",
   "metadata": {},
   "source": [
    "Crawl only URLs that are not in the CSV"
   ]
  },
  {
   "cell_type": "code",
   "execution_count": 29,
   "metadata": {},
   "outputs": [],
   "source": [
    "import pandas as pd \n",
    "\n",
    "import cfscrape\n",
    "from lxml import etree\n",
    "header = {'Accept': 'text/html,application/xhtml+xml,application/xml;q=0.9',\n",
    "              'Accept-Encoding': 'gzip, deflate, sdch',\n",
    "              'Accept-Language' : 'en-US,en;q=0.9,nl;q=0.8',\n",
    "              'Cache-Control' : 'max-age=0',\n",
    "              'Connection': 'keep-alive',\n",
    "              'User-Agent': 'Mozilla/5.0 (Macintosh; Intel Mac OS X 10_15_6) AppleWebKit/537.36 (KHTML, like Gecko) Chrome/83.0.4103.116 Safari/537.36'}\n",
    "\n",
    "scraper = cfscrape.create_scraper()\n",
    "\n",
    "\n",
    "def funda_automatic_crawler (city, price_max, df_oldfile):\n",
    "    \n",
    "    page = 1\n",
    "    links = []\n",
    "    \n",
    "    while True:\n",
    "        url=\"https://www.funda.nl/koop/\"+str(city)+\"/0-\"+str(price_max)+\"/woonhuis/p\"+str(page)\n",
    "#         print(url)\n",
    "        scraped_html=scraper.get(url,headers=header).content\n",
    "#         print(scraped_html.decode(\"utf-8\"))\n",
    "        html = etree.HTML(scraped_html)\n",
    "#         print(html)\n",
    "        \n",
    "        df_links = pd.DataFrame(html.xpath(\"//a/@href\"))\n",
    "        \n",
    "        if len(df_links)==0:\n",
    "            print(\"Funda may BLOCKED US!\")\n",
    "            break\n",
    "\n",
    "        df_links_unique =\"https://www.funda.nl\"+df_links[df_links[0].str.contains(\"/koop/\"+str(city)+\"/huis-\")].drop_duplicates()\n",
    "#         print(df_links_unique)\n",
    "\n",
    "        links.extend(df_links_unique[0].tolist())\n",
    "        \n",
    "        print(\"Links from page\",page,\"retrieved!\")\n",
    "        \n",
    "        total_entries = int(html.xpath(\"//button[@class='mobile-search-sticky-button fd-btn fd-btn--primary']/span/text()\")[0].replace(\"koopwoningen\",'').strip())\n",
    "#         print(total_entries)\n",
    "        \n",
    "        if page * 10 > total_entries:\n",
    "            break\n",
    "        else:\n",
    "            page = page + 1\n",
    "#   -------------------------------------------\n",
    "#   -------------------------------------------\n",
    "    links_unique = list(set(links))\n",
    "    df = pd.DataFrame()\n",
    "    for url in links_unique:\n",
    "        if len(df_oldfile[df_oldfile['link'].str.contains(url)])>0:\n",
    "            print(url,\":alredy in the oldcsv\")\n",
    "            continue    \n",
    "        \n",
    "        scraped_html=scraper.get(url,headers=header).content.decode(\"utf-8\") \n",
    "#         print(scraped_html.decode(\"utf-8\"))\n",
    "        html = etree.HTML(scraped_html)             \n",
    "        \n",
    "        try:\n",
    "            address = html.xpath(\"//title/text()\")[0].replace('Huis te koop: ','').replace('[funda]','')\n",
    "        except:\n",
    "            address = \"\"\n",
    "            \n",
    "        try:\n",
    "            price = html.xpath(\"//strong[@class='object-header__price']/text()\")[0].replace('€ ','').replace(' /mnd','').replace('.','').replace(' kk','').replace('von', '').replace(' ','')\n",
    "        except:\n",
    "            price = \"\"\n",
    "            \n",
    "        try:\n",
    "            bouwjaar = html.xpath(\"//dl[@class='object-kenmerken-list']\")[1].xpath(\"dd/text()\")[2].replace('\\r\\n','').replace(' ','')\n",
    "        except:\n",
    "            bouwjaar =\"\"\n",
    "            \n",
    "        try:\n",
    "            kamers = html.xpath(\"//dl[@class='object-kenmerken-list']\")[3].xpath(\"dd/text()\")[0].replace('\\r\\n','')\n",
    "        except:\n",
    "            kamers = \"\"\n",
    "        \n",
    "        try:\n",
    "            woonen_m2 = html.xpath(\"//dd[@class='object-kenmerken-group-list']/dl/dd[1]/text()\")[0].replace('\\r\\n','').replace(' m²','').replace('.0','').replace('.','')\n",
    "        except:\n",
    "            woonen_m2 = \"\"\n",
    "            \n",
    "        try:\n",
    "            perceel_m2 = html.xpath(\"//dd[@class='object-kenmerken-group-list']/dl/dd[1]/text()\")[1].replace('\\r\\n','').replace(' m²','').replace('.0','').replace('.','').replace(' (deelperceel)','')\n",
    "        except:\n",
    "            perceel_m2 =\"\"\n",
    "        \n",
    "        try:\n",
    "            makelaars = html.xpath(\"//a[@class='object-contact-aanbieder-link']/text()\")[0]\n",
    "        except:\n",
    "            makelaars = \"\"\n",
    "        \n",
    "        try:\n",
    "            makelaars_phone = html.xpath(\"//span[@class='fd-completely-hidden fd-display-inline-block--bp-m']/text()\")[0].replace('\\r\\n','').replace('-','').replace('(+31) ','').replace(' ','')\n",
    "        except:\n",
    "            makelaars_phone = \"\"\n",
    "            \n",
    "        try:\n",
    "            energy = html.xpath(\"//span[contains(@class, 'energielabel')]/text()\")[0].replace('\\r','').replace('\\n','').replace(' ','')\n",
    "        except:\n",
    "            energy = \"\"\n",
    "        \n",
    "        print(\"Retrieved:\", address)\n",
    "        df_temp = pd.DataFrame({'link':url,\n",
    "                                'address':[address],\n",
    "                                'city':[city],\n",
    "                                'price':[price],\n",
    "                                'bouwjaar': [bouwjaar],\n",
    "                                'kamers': [kamers],\n",
    "                                'woonen_m2':[woonen_m2],\n",
    "                                'perceel_m2':[perceel_m2],\n",
    "                                'makelaars': [makelaars],\n",
    "                                'makelaars_phone':[makelaars_phone],\n",
    "                               'energy':[energy]})\n",
    "        \n",
    "        df = pd.concat([df,df_temp], axis=0, ignore_index=True)\n",
    "    \n",
    "    try:\n",
    "        df['slaapkamers'] = df['kamers'].apply(lambda x: str(x.split(' slaapkamers')[0])[-1] if 'slaapkamers' in str(x)  else str(x).replace(' kamer','').replace('s',''))\n",
    "    except:\n",
    "        df['slaapkamers'] = \"\"\n",
    "\n",
    "    try:\n",
    "        df['bouwjaar'] = df['bouwjaar'].apply(lambda x: x.split('-')[0])\n",
    "    except:\n",
    "        df['slaapkamers'] = \"\"\n",
    "    return df"
   ]
  },
  {
   "cell_type": "markdown",
   "metadata": {},
   "source": [
    "<h1 align='center'>=========================================================</h1>"
   ]
  },
  {
   "cell_type": "markdown",
   "metadata": {},
   "source": [
    "## Using the function"
   ]
  },
  {
   "cell_type": "markdown",
   "metadata": {},
   "source": [
    "**Note:** we use the df_current (coming from Google Drive Spreadsheet)"
   ]
  },
  {
   "cell_type": "code",
   "execution_count": 30,
   "metadata": {},
   "outputs": [
    {
     "name": "stdout",
     "output_type": "stream",
     "text": [
      "Links from page 1 retrieved!\n",
      "Links from page 2 retrieved!\n",
      "Links from page 3 retrieved!\n",
      "Links from page 4 retrieved!\n",
      "Links from page 5 retrieved!\n",
      "Links from page 6 retrieved!\n",
      "Links from page 7 retrieved!\n",
      "Retrieved: Torontodreef 24 3564 KR Utrecht \n",
      "Retrieved: Houstondreef 15 3564 KL Utrecht \n",
      "Retrieved: Patrimoniumstraat 45 3555 GL Utrecht \n",
      "Retrieved: Priokstraat 25 3531 XM Utrecht \n",
      "Retrieved: Bremstraat 18 3551 TD Utrecht \n",
      "Retrieved: Nicolaasweg 32 3581 VJ Utrecht \n",
      "Retrieved: Fregatstraat 9 3534 RA Utrecht \n",
      "Retrieved: De Bazelstraat 11 3555 CP Utrecht \n",
      "Retrieved: Asterstraat 22 3551 SX Utrecht \n",
      "Retrieved: Abel Tasmanstraat 76 3531 GW Utrecht \n",
      "Retrieved: Stanleylaan 3 3526 TA Utrecht \n",
      "Retrieved: Rhônedreef 19 3561 VA Utrecht \n",
      "Retrieved: Elzas 12 3524 RW Utrecht \n",
      "Retrieved: Van Meursstraat 69 3532 CH Utrecht \n",
      "Retrieved: Makassarstraat 89 3531 VM Utrecht \n",
      "Retrieved: Van Zijlstraat 1 3552 XR Utrecht \n",
      "Retrieved: Adelboldstraat 14 3553 SJ Utrecht \n",
      "Retrieved: Gerard Revestraat 23 3544 KK Utrecht \n",
      "Retrieved: Filipijnen 137 3524 JK Utrecht \n",
      "Retrieved: Hoogstraat 8 3552 XM Utrecht \n",
      "Retrieved: Torontodreef 17 3564 KR Utrecht \n",
      "Retrieved: Otterstraat 91 3513 CK Utrecht \n",
      "Retrieved: Balderikstraat 57 3553 BB Utrecht \n",
      "Retrieved: Korenbloemstraat 25 3551 GM Utrecht \n",
      "Retrieved: Oudwijkerdwarsstraat 32 3581 LE Utrecht \n",
      "Retrieved: Burgemeester Norbruislaan 85 3555 EE Utrecht \n",
      "Retrieved: Borneostraat 34 3531 PK Utrecht \n",
      "Retrieved: M. de Klerkstraat 21 3555 CM Utrecht \n",
      "Retrieved: H.J. Schimmelplein 27 3532 TG Utrecht \n",
      "Retrieved: Zandhofsestraat 148 3572 GL Utrecht \n",
      "Retrieved: Seychellen 142 3524 JB Utrecht \n",
      "Retrieved: Balderikstraat 127 3553 BD Utrecht \n",
      "Retrieved: Rochus Meeuwiszstraat 33 3554 VR Utrecht \n",
      "Retrieved: Asserlaan 16 3527 VZ Utrecht \n",
      "Retrieved: Kerkdwarsstraat 33 3581 RG Utrecht \n",
      "Retrieved: Hermannus Elconiusstraat 19 3553 VA Utrecht \n",
      "Retrieved: Hofnarlaan 21 3525 GM Utrecht \n",
      "Retrieved: Van Imhoffstraat 45 3531 HV Utrecht \n",
      "Retrieved: Otterstraat 87 3513 CK Utrecht \n",
      "Retrieved: Amsterdamsestraatweg 723 3555 HG Utrecht \n",
      "Retrieved: Paulus van Vianenstraat 9 3552 AR Utrecht \n",
      "Retrieved: Aziëlaan 134 3526 SG Utrecht \n",
      "Retrieved: Havanadreef 7 3563 HK Utrecht \n",
      "Retrieved: Vlieland 194 3524 AD Utrecht \n",
      "Retrieved: Hofnarlaan 15 3525 GM Utrecht \n",
      "Retrieved: Koppestokstraat 74 3554 BG Utrecht \n",
      "Retrieved: Seringstraat 64 3551 TM Utrecht \n",
      "Retrieved: Lauwerecht 70 3515 GT Utrecht \n",
      "Retrieved: Geulstraat 27 3522 XT Utrecht \n",
      "Retrieved: Blauwkapelseweg 25 3572 KB Utrecht \n",
      "Retrieved: Hoogstraat 26 3552 XM Utrecht \n",
      "Retrieved: Edisonstraat 142 3553 BX Utrecht \n",
      "Retrieved: Van der Mondestraat 20 3515 BH Utrecht \n",
      "Retrieved: Seychellen 44 3524 JA Utrecht \n",
      "Retrieved: Concordiastraat 50 3551 EN Utrecht \n",
      "Retrieved: Van der Vlugtsingel 9 3544 LA Utrecht \n",
      "Retrieved: Schaperstraat 3 3555 WJ Utrecht \n",
      "Retrieved: Van Eysingalaan 10 3527 VL Utrecht \n",
      "Retrieved: Pablo Nerudastraat 19 3573 BR Utrecht \n",
      "Retrieved: Tholen 58 3524 ZN Utrecht \n",
      "Retrieved: Jaap Edendreef 21 3562 AT Utrecht \n",
      "Retrieved: Cabotolaan 11 3526 EX Utrecht \n",
      "Retrieved: Ramsesdreef 173 3564 CK Utrecht \n",
      "Retrieved: Koppestokstraat 45 3554 BB Utrecht \n",
      "Retrieved: Wagendwarsstraat 70 3581 WN Utrecht \n",
      "Retrieved: Arnoldus Rotterdamstraat 6 3553 TE Utrecht \n"
     ]
    }
   ],
   "source": [
    "df_newentries = funda_automatic_crawler('utrecht',350000,df_current)"
   ]
  },
  {
   "cell_type": "code",
   "execution_count": 31,
   "metadata": {},
   "outputs": [],
   "source": [
    "df_newentries['id'] = \"\"\n",
    "df_newentries['bike_time'] = \"\"\n",
    "df_newentries['status'] = \"new\"\n",
    "df_newentries['wos_waarde'] = \"\"\n",
    "df_newentries['huispedia'] = \"\""
   ]
  },
  {
   "cell_type": "markdown",
   "metadata": {},
   "source": [
    "<h1 align='center'>=========================================================</h1> "
   ]
  },
  {
   "cell_type": "markdown",
   "metadata": {},
   "source": [
    "# PART III: enriching the data"
   ]
  },
  {
   "cell_type": "markdown",
   "metadata": {},
   "source": [
    "# Bike Distance from/to SOMEWHERE"
   ]
  },
  {
   "cell_type": "code",
   "execution_count": 32,
   "metadata": {},
   "outputs": [
    {
     "name": "stdout",
     "output_type": "stream",
     "text": [
      "Northwave Group HQ, Van Deventerlaan, Utrecht -> maxima park : 22 mins\n"
     ]
    }
   ],
   "source": [
    "%run gmaps_bike_distance_duration.ipynb"
   ]
  },
  {
   "cell_type": "code",
   "execution_count": 33,
   "metadata": {},
   "outputs": [
    {
     "name": "stdout",
     "output_type": "stream",
     "text": [
      "Torontodreef 24 3564 KR Utrecht  -> Van Deventerlaan 31, 3528 AG Utrecht : 29 mins\n",
      "Houstondreef 15 3564 KL Utrecht  -> Van Deventerlaan 31, 3528 AG Utrecht : 29 mins\n",
      "Patrimoniumstraat 45 3555 GL Utrecht  -> Van Deventerlaan 31, 3528 AG Utrecht : 25 mins\n",
      "Priokstraat 25 3531 XM Utrecht  -> Van Deventerlaan 31, 3528 AG Utrecht : 14 mins\n",
      "Bremstraat 18 3551 TD Utrecht  -> Van Deventerlaan 31, 3528 AG Utrecht : 20 mins\n",
      "Nicolaasweg 32 3581 VJ Utrecht  -> Van Deventerlaan 31, 3528 AG Utrecht : 22 mins\n",
      "Fregatstraat 9 3534 RA Utrecht  -> Van Deventerlaan 31, 3528 AG Utrecht : 16 mins\n",
      "De Bazelstraat 11 3555 CP Utrecht  -> Van Deventerlaan 31, 3528 AG Utrecht : 23 mins\n",
      "Asterstraat 22 3551 SX Utrecht  -> Van Deventerlaan 31, 3528 AG Utrecht : 21 mins\n",
      "Abel Tasmanstraat 76 3531 GW Utrecht  -> Van Deventerlaan 31, 3528 AG Utrecht : 14 mins\n",
      "Stanleylaan 3 3526 TA Utrecht  -> Van Deventerlaan 31, 3528 AG Utrecht : 7 mins\n",
      "Rhônedreef 19 3561 VA Utrecht  -> Van Deventerlaan 31, 3528 AG Utrecht : 27 mins\n",
      "Elzas 12 3524 RW Utrecht  -> Van Deventerlaan 31, 3528 AG Utrecht : 25 mins\n",
      "Van Meursstraat 69 3532 CH Utrecht  -> Van Deventerlaan 31, 3528 AG Utrecht : 17 mins\n",
      "Makassarstraat 89 3531 VM Utrecht  -> Van Deventerlaan 31, 3528 AG Utrecht : 15 mins\n",
      "Van Zijlstraat 1 3552 XR Utrecht  -> Van Deventerlaan 31, 3528 AG Utrecht : 25 mins\n",
      "Adelboldstraat 14 3553 SJ Utrecht  -> Van Deventerlaan 31, 3528 AG Utrecht : 21 mins\n",
      "Gerard Revestraat 23 3544 KK Utrecht  -> Van Deventerlaan 31, 3528 AG Utrecht : 16 mins\n",
      "Filipijnen 137 3524 JK Utrecht  -> Van Deventerlaan 31, 3528 AG Utrecht : 21 mins\n",
      "Hoogstraat 8 3552 XM Utrecht  -> Van Deventerlaan 31, 3528 AG Utrecht : 24 mins\n",
      "Torontodreef 17 3564 KR Utrecht  -> Van Deventerlaan 31, 3528 AG Utrecht : 29 mins\n",
      "Otterstraat 91 3513 CK Utrecht  -> Van Deventerlaan 31, 3528 AG Utrecht : 20 mins\n",
      "Balderikstraat 57 3553 BB Utrecht  -> Van Deventerlaan 31, 3528 AG Utrecht : 21 mins\n",
      "Korenbloemstraat 25 3551 GM Utrecht  -> Van Deventerlaan 31, 3528 AG Utrecht : 20 mins\n",
      "Oudwijkerdwarsstraat 32 3581 LE Utrecht  -> Van Deventerlaan 31, 3528 AG Utrecht : 20 mins\n",
      "Burgemeester Norbruislaan 85 3555 EE Utrecht  -> Van Deventerlaan 31, 3528 AG Utrecht : 27 mins\n",
      "Borneostraat 34 3531 PK Utrecht  -> Van Deventerlaan 31, 3528 AG Utrecht : 16 mins\n",
      "M. de Klerkstraat 21 3555 CM Utrecht  -> Van Deventerlaan 31, 3528 AG Utrecht : 23 mins\n",
      "H.J. Schimmelplein 27 3532 TG Utrecht  -> Van Deventerlaan 31, 3528 AG Utrecht : 16 mins\n",
      "Zandhofsestraat 148 3572 GL Utrecht  -> Van Deventerlaan 31, 3528 AG Utrecht : 27 mins\n",
      "Seychellen 142 3524 JB Utrecht  -> Van Deventerlaan 31, 3528 AG Utrecht : 21 mins\n",
      "Balderikstraat 127 3553 BD Utrecht  -> Van Deventerlaan 31, 3528 AG Utrecht : 22 mins\n",
      "Rochus Meeuwiszstraat 33 3554 VR Utrecht  -> Van Deventerlaan 31, 3528 AG Utrecht : 23 mins\n",
      "Asserlaan 16 3527 VZ Utrecht  -> Van Deventerlaan 31, 3528 AG Utrecht : 10 mins\n",
      "Kerkdwarsstraat 33 3581 RG Utrecht  -> Van Deventerlaan 31, 3528 AG Utrecht : 23 mins\n",
      "Hermannus Elconiusstraat 19 3553 VA Utrecht  -> Van Deventerlaan 31, 3528 AG Utrecht : 20 mins\n",
      "Hofnarlaan 21 3525 GM Utrecht  -> Van Deventerlaan 31, 3528 AG Utrecht : 18 mins\n",
      "Van Imhoffstraat 45 3531 HV Utrecht  -> Van Deventerlaan 31, 3528 AG Utrecht : 15 mins\n",
      "Otterstraat 87 3513 CK Utrecht  -> Van Deventerlaan 31, 3528 AG Utrecht : 20 mins\n",
      "Amsterdamsestraatweg 723 3555 HG Utrecht  -> Van Deventerlaan 31, 3528 AG Utrecht : 22 mins\n",
      "Paulus van Vianenstraat 9 3552 AR Utrecht  -> Van Deventerlaan 31, 3528 AG Utrecht : 24 mins\n",
      "Aziëlaan 134 3526 SG Utrecht  -> Van Deventerlaan 31, 3528 AG Utrecht : 9 mins\n",
      "Havanadreef 7 3563 HK Utrecht  -> Van Deventerlaan 31, 3528 AG Utrecht : 28 mins\n",
      "Vlieland 194 3524 AD Utrecht  -> Van Deventerlaan 31, 3528 AG Utrecht : 25 mins\n",
      "Hofnarlaan 15 3525 GM Utrecht  -> Van Deventerlaan 31, 3528 AG Utrecht : 18 mins\n",
      "Koppestokstraat 74 3554 BG Utrecht  -> Van Deventerlaan 31, 3528 AG Utrecht : 22 mins\n",
      "Seringstraat 64 3551 TM Utrecht  -> Van Deventerlaan 31, 3528 AG Utrecht : 20 mins\n",
      "Lauwerecht 70 3515 GT Utrecht  -> Van Deventerlaan 31, 3528 AG Utrecht : 23 mins\n",
      "Geulstraat 27 3522 XT Utrecht  -> Van Deventerlaan 31, 3528 AG Utrecht : 13 mins\n",
      "Blauwkapelseweg 25 3572 KB Utrecht  -> Van Deventerlaan 31, 3528 AG Utrecht : 26 mins\n",
      "Hoogstraat 26 3552 XM Utrecht  -> Van Deventerlaan 31, 3528 AG Utrecht : 24 mins\n",
      "Edisonstraat 142 3553 BX Utrecht  -> Van Deventerlaan 31, 3528 AG Utrecht : 22 mins\n",
      "Van der Mondestraat 20 3515 BH Utrecht  -> Van Deventerlaan 31, 3528 AG Utrecht : 23 mins\n",
      "Seychellen 44 3524 JA Utrecht  -> Van Deventerlaan 31, 3528 AG Utrecht : 20 mins\n",
      "Concordiastraat 50 3551 EN Utrecht  -> Van Deventerlaan 31, 3528 AG Utrecht : 22 mins\n",
      "Van der Vlugtsingel 9 3544 LA Utrecht  -> Van Deventerlaan 31, 3528 AG Utrecht : 17 mins\n",
      "Schaperstraat 3 3555 WJ Utrecht  -> Van Deventerlaan 31, 3528 AG Utrecht : 25 mins\n",
      "Van Eysingalaan 10 3527 VL Utrecht  -> Van Deventerlaan 31, 3528 AG Utrecht : 9 mins\n",
      "Pablo Nerudastraat 19 3573 BR Utrecht  -> Van Deventerlaan 31, 3528 AG Utrecht : 32 mins\n",
      "Tholen 58 3524 ZN Utrecht  -> Van Deventerlaan 31, 3528 AG Utrecht : 22 mins\n",
      "Jaap Edendreef 21 3562 AT Utrecht  -> Van Deventerlaan 31, 3528 AG Utrecht : 31 mins\n",
      "Cabotolaan 11 3526 EX Utrecht  -> Van Deventerlaan 31, 3528 AG Utrecht : 9 mins\n",
      "Ramsesdreef 173 3564 CK Utrecht  -> Van Deventerlaan 31, 3528 AG Utrecht : 28 mins\n",
      "Koppestokstraat 45 3554 BB Utrecht  -> Van Deventerlaan 31, 3528 AG Utrecht : 22 mins\n",
      "Wagendwarsstraat 70 3581 WN Utrecht  -> Van Deventerlaan 31, 3528 AG Utrecht : 22 mins\n",
      "Arnoldus Rotterdamstraat 6 3553 TE Utrecht  -> Van Deventerlaan 31, 3528 AG Utrecht : 20 mins\n"
     ]
    }
   ],
   "source": [
    "# point_b = 'Enschede Railway Station, Enschede'\n",
    "point_b = 'Van Deventerlaan 31, 3528 AG Utrecht'\n",
    " \n",
    "df_newentries['bike_time'] = df_newentries['address'].apply(lambda x: gmaps_bike_time(gmaps_key,x,point_b))"
   ]
  },
  {
   "cell_type": "markdown",
   "metadata": {},
   "source": [
    "<h1 align='center'>=========================================================</h1> "
   ]
  },
  {
   "cell_type": "markdown",
   "metadata": {},
   "source": [
    "## Merging the new entries with a Google drive workbook"
   ]
  },
  {
   "cell_type": "code",
   "execution_count": 34,
   "metadata": {},
   "outputs": [
    {
     "name": "stderr",
     "output_type": "stream",
     "text": [
      "/usr/local/lib/python3.7/site-packages/pandas/core/frame.py:7138: FutureWarning: Sorting because non-concatenation axis is not aligned. A future version\n",
      "of pandas will change to not sort by default.\n",
      "\n",
      "To accept the future behavior, pass 'sort=False'.\n",
      "\n",
      "To retain the current behavior and silence the warning, pass 'sort=True'.\n",
      "\n",
      "  sort=sort,\n"
     ]
    }
   ],
   "source": [
    "df_merged = df_current.append(df_newentries).reset_index(drop=True)"
   ]
  },
  {
   "cell_type": "markdown",
   "metadata": {},
   "source": [
    "## Saving merged df into a Google drive workbook"
   ]
  },
  {
   "cell_type": "code",
   "execution_count": 35,
   "metadata": {},
   "outputs": [],
   "source": [
    "set_with_dataframe(worksheet, df_merged[['id','status','link','address','bike_time','makelaars','makelaars_phone','price','huispedia','wos_waarde','bouwjaar','perceel_m2','woonen_m2','slaapkamers', 'energy']])"
   ]
  }
 ],
 "metadata": {
  "kernelspec": {
   "display_name": "Python 3",
   "language": "python",
   "name": "python3"
  },
  "language_info": {
   "codemirror_mode": {
    "name": "ipython",
    "version": 3
   },
   "file_extension": ".py",
   "mimetype": "text/x-python",
   "name": "python",
   "nbconvert_exporter": "python",
   "pygments_lexer": "ipython3",
   "version": "3.7.6"
  }
 },
 "nbformat": 4,
 "nbformat_minor": 2
}
