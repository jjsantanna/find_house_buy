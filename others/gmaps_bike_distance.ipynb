{
 "cells": [
  {
   "cell_type": "code",
   "execution_count": null,
   "metadata": {},
   "outputs": [],
   "source": [
    "import googlemaps\n",
    "\n",
    "def gmaps_bike_distance (key, point_a, point_b):\n",
    "    gmaps = googlemaps.Client(key=key)\n",
    "    directions_result = gmaps.directions(point_a, point_b, mode=\"bicycling\")\n",
    "    bike_distance = directions_result[0][u'legs'][0][u'distance'][u'text']\n",
    "    bike_time = directions_result[0][u'legs'][0][u'duration'][u'text']\n",
    "    return bike_distance+\" (\"+bike_time+\")\""
   ]
  }
 ],
 "metadata": {
  "kernelspec": {
   "display_name": "Python 3",
   "language": "python",
   "name": "python3"
  },
  "language_info": {
   "codemirror_mode": {
    "name": "ipython",
    "version": 3
   },
   "file_extension": ".py",
   "mimetype": "text/x-python",
   "name": "python",
   "nbconvert_exporter": "python",
   "pygments_lexer": "ipython3",
   "version": "3.7.0"
  }
 },
 "nbformat": 4,
 "nbformat_minor": 2
}
