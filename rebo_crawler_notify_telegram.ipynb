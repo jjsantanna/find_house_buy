{
 "cells": [
  {
   "cell_type": "markdown",
   "metadata": {},
   "source": [
    "# Crawler for Rebohurrwoning.nl and notification via Telegram bot"
   ]
  },
  {
   "cell_type": "markdown",
   "metadata": {},
   "source": [
    "## LIBRARIES"
   ]
  },
  {
   "cell_type": "code",
   "execution_count": null,
   "metadata": {},
   "outputs": [],
   "source": [
    "import pandas as pd\n",
    "import cfscrape\n",
    "from lxml import etree\n",
    "from datetime import datetime\n",
    "import requests\n",
    "pd.set_option('display.max_colwidth', -1)"
   ]
  },
  {
   "cell_type": "markdown",
   "metadata": {},
   "source": [
    "## FUNCTION TO SEND TELEGRAM MESSAGE!"
   ]
  },
  {
   "cell_type": "code",
   "execution_count": null,
   "metadata": {},
   "outputs": [],
   "source": [
    "def telegram_bot_sendtext(bot_message):\n",
    "    bot_token = \n",
    "    bot_chatID = \n",
    "    send_text = 'https://api.telegram.org/bot' + bot_token + '/sendMessage?chat_id=' + bot_chatID + '&parse_mode=Markdown&text=' + bot_message\n",
    "    response = requests.get(send_text)\n",
    "    return response.json()\n",
    "\n",
    "# for emoji: https://apps.timwhitlock.info/emoji/tables/unicode"
   ]
  },
  {
   "cell_type": "markdown",
   "metadata": {},
   "source": [
    "## VALID HEADER FOR THE HTTP REQUEST"
   ]
  },
  {
   "cell_type": "code",
   "execution_count": null,
   "metadata": {},
   "outputs": [],
   "source": [
    "header = {'Accept': 'text/html,application/xhtml+xml,application/xml;q=0.9',\n",
    "              'Accept-Encoding': 'gzip, deflate, sdch',\n",
    "              'Accept-Language' : 'nl-NL,nl;q=0.8,en-US;q=0.6,en;q=0.4',\n",
    "              'Cache-Control' : 'max-age=0',\n",
    "              'Connection': 'keep-alive',\n",
    "              'User-Agent': 'Mozilla/5.0 (X11; Linux x86_64) AppleWebKit/537.36 (KHTML, like Gecko) Chrome/43.0.2357.81 Safari/537.36'}"
   ]
  },
  {
   "cell_type": "markdown",
   "metadata": {},
   "source": [
    "## URL EXAMPLE FOR REBOHURRWONING"
   ]
  },
  {
   "cell_type": "code",
   "execution_count": null,
   "metadata": {},
   "outputs": [],
   "source": [
    "url = \"https://www.rebohuurwoning.nl/nl/aanbod/?location=Utrecht&location_params=street%3DAmerikalaan%26city%3DUtrecht%26country%3DNederland%26type%3Dcity&price_min=-1&price_max=-1&property_type=-1&property_subtype=-1&sorting=date_desc\""
   ]
  },
  {
   "cell_type": "markdown",
   "metadata": {},
   "source": [
    "## INSTANTIATING SCRAPER "
   ]
  },
  {
   "cell_type": "code",
   "execution_count": null,
   "metadata": {},
   "outputs": [],
   "source": [
    "scraper = cfscrape.create_scraper()  \n",
    "scraped_html=scraper.get(url,headers=header).content\n",
    "# print(scraped_html.decode(\"utf-8\") )\n",
    "html = etree.HTML(scraped_html)"
   ]
  },
  {
   "cell_type": "markdown",
   "metadata": {},
   "source": [
    "## GETTING ALL LINKS IN THE FIRST PAGE"
   ]
  },
  {
   "cell_type": "code",
   "execution_count": null,
   "metadata": {},
   "outputs": [],
   "source": [
    "df_all_links = pd.DataFrame(html.xpath(\"//a/@href\"))\n",
    "links = df_all_links[df_all_links[0].str.contains('aanbod')].iloc[1:].apply(lambda x: 'https://www.rebohuurwoning.nl'+x).reset_index(drop=True)\n",
    "# links.head()"
   ]
  },
  {
   "cell_type": "markdown",
   "metadata": {},
   "source": [
    "## LOOP FOR SCRAPING THE CONTENT OF EACH LINK"
   ]
  },
  {
   "cell_type": "code",
   "execution_count": null,
   "metadata": {},
   "outputs": [],
   "source": [
    "# df = pd.DataFrame(columns=['link',\n",
    "#                            'address',\n",
    "#                            'price',\n",
    "#                            'slaapkamers',\n",
    "#                            'kamers',\n",
    "#                            'woonoppervlakte',\n",
    "#                            'oplevering',\n",
    "#                            'first_seen',\n",
    "#                            'last_seen',\n",
    "#                           'type_woning'])"
   ]
  },
  {
   "cell_type": "code",
   "execution_count": null,
   "metadata": {},
   "outputs": [],
   "source": [
    "df = pd.read_csv('finding_house.csv').drop(['Unnamed: 0'],axis=1)"
   ]
  },
  {
   "cell_type": "code",
   "execution_count": null,
   "metadata": {},
   "outputs": [],
   "source": [
    "df_notify = pd.DataFrame()\n",
    "\n",
    "for link in links[0]:\n",
    "    # if the link already exist, update the last seen date!\n",
    "    if len(df[df['link']==link])>0:\n",
    "        index = df[df['link']==link].index[0].item()\n",
    "        df.at[index, 'last_seen'] = datetime.now().strftime('%Y-%m-%d %H:%M')\n",
    "        continue\n",
    "    \n",
    "    #INSTANTIATING THE CRAWLER FOR THE NEW LINK\n",
    "    scraped_html=scraper.get(link,headers=header).content\n",
    "    html = etree.HTML(scraped_html)\n",
    "    \n",
    "    first_seen = datetime.now().strftime('%Y-%m-%d %H:%M')\n",
    "    last_seen = first_seen\n",
    "    \n",
    "    try:\n",
    "        address = html.xpath(\"//title/text()\")[0].replace('Te huur: ', '')\n",
    "    except:\n",
    "        address = \"\"\n",
    "        \n",
    "    try:\n",
    "        price = html.xpath(\"//div[text()='Huurprijs']/following-sibling::div/text()\")[0].replace('€ ','').replace(',- \\xa0','').replace('.','')\n",
    "    except:\n",
    "        price = \"\"\n",
    "    \n",
    "    try:\n",
    "        slaapkamers = html.xpath(\"//div[text()='Aantal Slaapkamers']/following-sibling::div/text()\")[0]\n",
    "    except:\n",
    "        slaapkamers = \"\"\n",
    "        \n",
    "    try:\n",
    "        kamers = html.xpath(\"//div[text()='Aantal kamers']/following-sibling::div/text()\")[0]\n",
    "    except:\n",
    "        kamers = \"\"\n",
    "    \n",
    "    try:\n",
    "        woonoppervlakte = html.xpath(\"//div[text()='Woonoppervlakte']/following-sibling::div/text()\")[0].replace(' m2','')\n",
    "    except:\n",
    "        woonoppervlakte = \"\"\n",
    "    \n",
    "    try:\n",
    "        oplevering = html.xpath(\"//div[text()='Oplevering']/following-sibling::div/text()\")[0]\n",
    "    except:\n",
    "        oplevering = \"\"\n",
    "        \n",
    "    try:\n",
    "        type_woning = html.xpath(\"//div[text()='Soort woning']/following-sibling::div/text()\")[0]\n",
    "    except:\n",
    "        type_woning = \"\"   \n",
    "        \n",
    "\n",
    "    df = df.append({'link':link,\n",
    "                    'address': address,  \n",
    "                    'price': '€{:,.0f}'.format(float(price)), \n",
    "                    'slaapkamers':slaapkamers,\n",
    "                    'kamers':kamers,\n",
    "                    'woonoppervlakte':woonoppervlakte,\n",
    "                    'oplevering':oplevering,\n",
    "                   'first_seen':first_seen,\n",
    "                   'last_seen':last_seen,\n",
    "                   'type_woning':type_woning},            \n",
    "                    ignore_index=True)\n",
    "    \n",
    "    df_notify = df_notify.append({'link':link,\n",
    "                                  'address': address,  \n",
    "                                  'price': '€{:,.0f}'.format(float(price)), \n",
    "                                  'slaapkamers':slaapkamers,\n",
    "                                  'kamers':kamers,\n",
    "                                  'woonoppervlakte':woonoppervlakte,\n",
    "                                  'oplevering':oplevering,\n",
    "                                  'first_seen':first_seen,\n",
    "                                  'last_seen':last_seen,\n",
    "                                  'type_woning':type_woning},            \n",
    "                                 ignore_index=True)\n",
    "\n",
    "if len(df_notify)>0:\n",
    "    telegram_bot_sendtext(u'\\U0001F61C'+\"NEW LINKS ON REBO'S WEBSITE:\\n\")\n",
    "    for index, row in df_notify.iterrows():\n",
    "    telegram_bot_sendtext('Price:'+str(row['price'])+'\\n'+\n",
    "                          'Woonoppervlakte: '+str(row['woonoppervlakte']).replace('nan','NOT SPECIFIED').replace('.0','m2')+'\\n'+\n",
    "                          'Slaapkamers: '+str(row['slaapkamers']).replace('nan','NOT SPECIFIED').replace('.0','')+'\\n'+\n",
    "                          str(row['link']))\n",
    "else:\n",
    "    telegram_bot_sendtext(u'\\U0001F613'+\"THERE ARE NO NEW ENTRIES AT REBO'S WEBSITE!!\")  "
   ]
  },
  {
   "cell_type": "code",
   "execution_count": null,
   "metadata": {},
   "outputs": [],
   "source": [
    "df.to_csv('finding_house.csv')"
   ]
  }
 ],
 "metadata": {
  "kernelspec": {
   "display_name": "Python 3",
   "language": "python",
   "name": "python3"
  },
  "language_info": {
   "codemirror_mode": {
    "name": "ipython",
    "version": 3
   },
   "file_extension": ".py",
   "mimetype": "text/x-python",
   "name": "python",
   "nbconvert_exporter": "python",
   "pygments_lexer": "ipython3",
   "version": "3.7.0"
  }
 },
 "nbformat": 4,
 "nbformat_minor": 2
}
