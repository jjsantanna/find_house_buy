{
 "cells": [
  {
   "cell_type": "code",
   "execution_count": 2,
   "metadata": {},
   "outputs": [],
   "source": [
    "import googlemaps"
   ]
  },
  {
   "cell_type": "markdown",
   "metadata": {},
   "source": [
    "## Importing the private keys from a file"
   ]
  },
  {
   "cell_type": "code",
   "execution_count": 18,
   "metadata": {},
   "outputs": [],
   "source": [
    "import private_keys\n",
    "gmaps_key=private_keys.google_maps_key"
   ]
  },
  {
   "cell_type": "markdown",
   "metadata": {},
   "source": [
    "## Defining the function to retrieve the distance between 2 points using Google Maps"
   ]
  },
  {
   "cell_type": "code",
   "execution_count": 16,
   "metadata": {},
   "outputs": [],
   "source": [
    "def gmaps_bike_time (gmaps_key, point_a, point_b):\n",
    "    gmaps = googlemaps.Client(key=gmaps_key)\n",
    "   \n",
    "    try:\n",
    "        directions_result = gmaps.directions(point_a, point_b, mode=\"bicycling\")\n",
    "        bike_time = directions_result[0][u'legs'][0][u'duration'][u'text']\n",
    "    except:\n",
    "        bike_time = \"error\"\n",
    "        \n",
    "    print(point_a,'->',point_b,':',bike_time)\n",
    "\n",
    "    return bike_time"
   ]
  },
  {
   "cell_type": "markdown",
   "metadata": {},
   "source": [
    "## Testing the function"
   ]
  },
  {
   "cell_type": "code",
   "execution_count": 20,
   "metadata": {},
   "outputs": [
    {
     "data": {
      "text/plain": [
       "'16 mins'"
      ]
     },
     "execution_count": 20,
     "metadata": {},
     "output_type": "execute_result"
    }
   ],
   "source": [
    "# point_a = 'Northwave Group HQ, Van Deventerlaan, Utrecht'\n",
    "# point_b = 'Utrecht Centraal, Stationshal 12, Utrecht'\n",
    "\n",
    "# gmaps_bike_time (gmaps_key,point_a,point_b)"
   ]
  }
 ],
 "metadata": {
  "kernelspec": {
   "display_name": "Python 3",
   "language": "python",
   "name": "python3"
  },
  "language_info": {
   "codemirror_mode": {
    "name": "ipython",
    "version": 3
   },
   "file_extension": ".py",
   "mimetype": "text/x-python",
   "name": "python",
   "nbconvert_exporter": "python",
   "pygments_lexer": "ipython3",
   "version": "3.7.0"
  }
 },
 "nbformat": 4,
 "nbformat_minor": 2
}
